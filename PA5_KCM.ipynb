{
 "cells": [
  {
   "cell_type": "markdown",
   "id": "b3ca625f",
   "metadata": {},
   "source": [
    "# PA 5\n",
    "# Kadin McWilliams\n",
    "# Version 1 \n",
    "# Fall 2023"
   ]
  },
  {
   "cell_type": "markdown",
   "id": "82440acf",
   "metadata": {},
   "source": [
    "# Task 1: Language Translator\n",
    "write a program that implements a translation dictionary using a\n",
    "Python dictionary data structure that maps 10 English words to 10 words in another language (e.g.\n",
    "Spanish, German, Farsi, Arabic,Japanese, etc.). The keys in your dictionary should be in English\n",
    "(all lower case), and your values should be in your target language (also all lowercase). Your\n",
    "program should ask for words in English to translate to your target language until the user enters\n",
    "the number zero (0). Your program should provide input/output precisely as the output below:\n"
   ]
  },
  {
   "cell_type": "code",
   "execution_count": 47,
   "id": "063709a5",
   "metadata": {},
   "outputs": [
    {
     "name": "stdout",
     "output_type": "stream",
     "text": [
      "Enter a word to translate from English to Irish (enter 0 to stop)\n",
      ": yellow\n",
      "The spanish word for yellow is AMARILLO. \n",
      "Enter a word to translate from English to Irish (enter 0 to stop)\n",
      ": hef\n",
      "The spanish word for HEF is outside this dictionary. \n",
      "Enter a word to translate from English to Irish (enter 0 to stop)\n",
      ": ge\n",
      "The spanish word for GE is not in this dictionary. \n",
      "Enter a word to translate from English to Irish (enter 0 to stop)\n",
      ": caty\n",
      "The spanish word for CATY is not in this dictionary. \n",
      "Enter a word to translate from English to Irish (enter 0 to stop)\n",
      ": cat\n",
      "The spanish word for cat is GATO. \n",
      "Enter a word to translate from English to Irish (enter 0 to stop)\n",
      ": 0\n"
     ]
    }
   ],
   "source": [
    "engToSpan={'table':'mesa','chair':'silla','computer':'computadora','clock':'reloj','blue':'azul','red':\n",
    "          'rojo','yellow':'amarillo','cat':'gato','fish':'pez','lightbulb':'bombilla'}\n",
    "flag=True\n",
    "j=0\n",
    "iniPrompt=\"Enter a word to translate from English to Irish (enter 0 to stop)\\n: \"\n",
    "while flag:\n",
    "    word=input(iniPrompt)\n",
    "    if word==\"0\":\n",
    "        break\n",
    "    elif word in engToSpan:\n",
    "        print(f\"The spanish word for {word} is {engToSpan[word].upper()}. \")\n",
    "    elif j==1:\n",
    "        print(f\"The spanish word for {word.upper()} is not in this dictionary. \")\n",
    "    \n",
    "    else:\n",
    "        print(f\"The spanish word for {word.upper()} is outside this dictionary. \")\n",
    "        j+=1\n",
    "    \n"
   ]
  },
  {
   "cell_type": "markdown",
   "id": "78261a42",
   "metadata": {},
   "source": [
    "## Task 2: Temperature Converter\n",
    "Create a dictionary named temp_dict containing the highest\n",
    "temperature in Fahrenheit for each day of September 2023 in Louisville, Kentucky. The keys will be the\n",
    "day of the month, and the values will be the temperature in Fahrenheit. Access each temperature value in\n",
    "Fahrenheit from the dictionary, convert it to Celsius using the formula (temperature - 32) * 5/9, and\n",
    "update the original dictionary with the Celsius value. Take help from the weather app to create a correct\n",
    "dictionary. "
   ]
  },
  {
   "cell_type": "code",
   "execution_count": 12,
   "id": "8404b9ed",
   "metadata": {},
   "outputs": [
    {
     "name": "stdout",
     "output_type": "stream",
     "text": [
      "{'Day1': 31, 'Day2': 32, 'Day3': 33, 'Day4': 33, 'Day5': 32, 'Day6': 28, 'Day7': 25, 'Day8': 28, 'Day9': 27, 'Day10': 28, 'Day11': 30, 'Day12': 26, 'Day13': 27, 'Day14': 27, 'Day15': 27, 'Day16': 28, 'Day17': 26, 'Day18': 26, 'Day19': 27, 'Day20': 29, 'Day21': 30, 'Day22': 31, 'Day23': 28, 'Day24': 28, 'Day25': 30, 'Day26': 31, 'Day27': 28, 'Day28': 27, 'Day29': 29, 'Day30': 30}\n"
     ]
    }
   ],
   "source": [
    "\n",
    "temp_dict={'Day1':88, 'Day2':91, 'Day3':92,'Day4':93,'Day5':90,'Day6':84,'Day7':77,'Day8':84,'Day9':81,'Day10':84,\n",
    "           'Day11':87,'Day12':80,'Day13':81,'Day14':82,'Day15':81,'Day16':83,'Day17':79,'Day18':80,'Day19':81,\n",
    "          'Day20':85,'Day21':86,'Day22':89,'Day23':83,'Day24':84,'Day25':87,'Day26':89,'Day27':83,'Day28':82,'Day29':85,\n",
    "           'Day30':86}\n",
    "\n",
    "for j,k in temp_dict.items():\n",
    "    temp_dict.update({j:int((k -32)*5/9)})\n",
    "print(temp_dict)"
   ]
  },
  {
   "cell_type": "markdown",
   "id": "6c350059",
   "metadata": {},
   "source": [
    "## Task 3: Write a Python script to create a dictionary where the keys are numbers between 1 and 15 (both included) and the values are the squares of the keys."
   ]
  },
  {
   "cell_type": "code",
   "execution_count": 19,
   "id": "57e6835f",
   "metadata": {},
   "outputs": [
    {
     "name": "stdout",
     "output_type": "stream",
     "text": [
      "{1: 1, 2: 4, 3: 9, 4: 16, 5: 25, 6: 36, 7: 49, 8: 64, 9: 81, 10: 100, 11: 121, 12: 144, 13: 169, 14: 196, 15: 225}\n"
     ]
    }
   ],
   "source": [
    "keys=[]\n",
    "squares=[]\n",
    "for i in range(1,16):\n",
    "    keys.append(i)\n",
    "    squares.append(i**2)\n",
    "\n",
    "whole=dict(zip(keys,squares))\n",
    "print(whole)\n"
   ]
  },
  {
   "cell_type": "markdown",
   "id": "c1b95bca",
   "metadata": {},
   "source": [
    "## Task4: User Profile Dictionary - Create a Python program that manages user profiles using a dictionary. Follow these steps:\n",
    "#### A. Create an empty dictionary named user_profiles to store user information.\n",
    "#### B. Implement a while loop that allows users to input their information. The loop should repeatedly ask the user to enter their name, age, email, and city. Add this information to the user_profiles dictionary.\n",
    "#### C. Add a break condition to exit the loop.\n",
    "#### D. Ask the user to input their information and add it to the dictionary. Allow the user to search for a specific user's profile by providing their name. If the user is found, display their profile; otherwise, show a message that the user is not found."
   ]
  },
  {
   "cell_type": "code",
   "execution_count": 36,
   "id": "1a274006",
   "metadata": {},
   "outputs": [
    {
     "name": "stdout",
     "output_type": "stream",
     "text": [
      "enter your name: Kaidn\n",
      "enter your age: 23\n",
      "enter your email: kafsd@gmai\n",
      "enter your city: df\n",
      "Would you like to enter another profile? (yes/no): yes\n",
      "enter your name: jeo\n",
      "enter your age: 23\n",
      "enter your email: dsf\n",
      "enter your city: sdf\n",
      "Would you like to enter another profile? (yes/no): no\n",
      "To look at profile information enter profile name: Kaidn\n",
      "The age is: 23\n",
      "The email is: kafsd@gmai\n",
      "The city is: df\n",
      "Would you like to look for another profile? (yes/no): no\n"
     ]
    }
   ],
   "source": [
    "user_profiles={}\n",
    "flag=True\n",
    "poll=True\n",
    "while flag:\n",
    "    name=input(\"enter your name: \")\n",
    "    age=int(input(\"enter your age: \"))\n",
    "    email=input(\"enter your email: \")\n",
    "    city=input(\"enter your city: \")\n",
    "    user_profiles.update({name:[age,email,city]})\n",
    "    \n",
    "    repeat=input(\"Would you like to enter another profile? (yes/no): \")\n",
    "    if repeat==\"no\":\n",
    "        break\n",
    "while poll:\n",
    "    lookup=input(\"To look at profile information enter profile name: \")\n",
    "    if lookup in user_profiles:\n",
    "        print(f\"The age is: {user_profiles[lookup][0]}\")\n",
    "        print(f\"The email is: {user_profiles[lookup][1]}\")\n",
    "        print(f\"The city is: {user_profiles[lookup][2]}\")\n",
    "    else:\n",
    "        print(\"User not found\")\n",
    "        \n",
    "    repeat2=input(\"Would you like to look for another profile? (yes/no): \")\n",
    "    if repeat2==\"no\":\n",
    "        break\n",
    "        \n",
    "        \n"
   ]
  },
  {
   "cell_type": "code",
   "execution_count": null,
   "id": "0dbf0d02",
   "metadata": {},
   "outputs": [],
   "source": []
  }
 ],
 "metadata": {
  "kernelspec": {
   "display_name": "Python 3 (ipykernel)",
   "language": "python",
   "name": "python3"
  },
  "language_info": {
   "codemirror_mode": {
    "name": "ipython",
    "version": 3
   },
   "file_extension": ".py",
   "mimetype": "text/x-python",
   "name": "python",
   "nbconvert_exporter": "python",
   "pygments_lexer": "ipython3",
   "version": "3.11.4"
  }
 },
 "nbformat": 4,
 "nbformat_minor": 5
}
